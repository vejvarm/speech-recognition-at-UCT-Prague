{
 "cells": [
  {
   "cell_type": "code",
   "execution_count": 1,
   "metadata": {},
   "outputs": [
    {
     "name": "stderr",
     "output_type": "stream",
     "text": [
      "c:\\users\\martin\\appdata\\local\\continuum\\anaconda3\\envs\\speech-recognition\\lib\\site-packages\\h5py\\__init__.py:34: FutureWarning: Conversion of the second argument of issubdtype from `float` to `np.floating` is deprecated. In future, it will be treated as `np.float64 == np.dtype(float).type`.\n",
      "  from ._conv import register_converters as _register_converters\n"
     ]
    }
   ],
   "source": [
    "import os\n",
    "\n",
    "import tensorflow as tf\n",
    "import numpy as np\n",
    "\n",
    "from FeatureExtraction import FeatureExtractor\n",
    "from DataLoader import DataLoader"
   ]
  },
  {
   "cell_type": "code",
   "execution_count": 3,
   "metadata": {},
   "outputs": [],
   "source": [
    "def serialize_array(x, y):\n",
    "    feature = {\n",
    "        'x': tf.train.Feature(float_list=tf.train.FloatList(value=x.flatten())),\n",
    "        'y': tf.train.Feature(int64_list=tf.train.Int64List(value=y.flatten()))\n",
    "    }\n",
    "    example = tf.train.Example(features=tf.train.Features(feature=feature))\n",
    "    return example.SerializeToString()\n",
    "\n",
    "\n",
    "def numpy_to_tfrecord(path_to_files, output_path='',\n",
    "                      feature_names='cepstrum', label_names='transcript'):\n",
    "    \"\"\"\n",
    "\n",
    "    :param path_to_files: (str) path to folder with numpy files\n",
    "    :param output_path: (str)path to folder with output tfrecord files\n",
    "    :param feature_names: sequence of symbols that can be used as common identifier for feature files\n",
    "    :param label_names: sequence of symbols that can be used as common identifier for label files\n",
    "    :return: None\n",
    "    \"\"\"\n",
    "\n",
    "    path_to_files = os.path.normpath(path_to_files)\n",
    "    folder_structure_gen = os.walk(path_to_files)  # ('path_to_current_folder', [subfolders], ['files', ...])\n",
    "    \n",
    "    if output_path and isinstance(output_path, str):\n",
    "        output_path = os.path.normpath(output_path)\n",
    "    else:\n",
    "        output_path = path_to_files\n",
    "    \n",
    "    for folder in folder_structure_gen:\n",
    "        path, subfolders, files = folder\n",
    "        if not files:\n",
    "            continue\n",
    "        feat_file_names = [f for f in files if feature_names in f]\n",
    "        label_file_names = [f for f in files if label_names in f]\n",
    "        \n",
    "        num_feats = len(feat_file_names)\n",
    "        num_labels = len(label_file_names)\n",
    "\n",
    "        assert num_feats == num_labels, 'There is {} feature files and {} label files (must be same).'.format(num_feats, num_labels)\n",
    "    \n",
    "        tfrecord_path = os.path.join(output_path, os.path.split(path)[1]) + '.tfrecord'\n",
    "        writer = tf.python_io.TFRecordWriter(tfrecord_path)\n",
    "    \n",
    "        for i in range(num_feats):\n",
    "            feat_load_path = os.path.join(path, feat_file_names[i])\n",
    "            label_load_path = os.path.join(path, label_file_names[i])\n",
    "\n",
    "            feat, _ = FeatureExtractor.load_cepstra(feat_load_path)\n",
    "            label, _ = DataLoader.load_labels(label_load_path)\n",
    "            \n",
    "#            print(feat[0][0].shape, label[0][0].shape)\n",
    "            \n",
    "            serialized = serialize_array(feat[0][0], label[0][0])\n",
    "            writer.write(serialized)\n",
    "            \n",
    "        writer.close()\n",
    "        \n",
    "        print(\"Data written to {}\".format(tfrecord_path))\n"
   ]
  },
  {
   "cell_type": "code",
   "execution_count": 4,
   "metadata": {},
   "outputs": [],
   "source": [
    "if __name__ == '__main__':\n",
    "    path_to_files = \"c:/!temp/ORAL_MFSC_unigram_40_banks_debug\"\n",
    "    output_path = path_to_files\n",
    "    feature_names='cepstrum'\n",
    "    label_names='transcript'\n",
    "\n",
    "    numpy_to_tfrecord(path_to_files, output_path)"
   ]
  },
  {
   "cell_type": "code",
   "execution_count": 33,
   "metadata": {},
   "outputs": [
    {
     "name": "stdout",
     "output_type": "stream",
     "text": [
      "(864, 123) (102,)\n"
     ]
    }
   ],
   "source": [
    "print(feat[0][0].shape, label[0][0].shape)"
   ]
  },
  {
   "cell_type": "code",
   "execution_count": 40,
   "metadata": {},
   "outputs": [],
   "source": []
  },
  {
   "cell_type": "code",
   "execution_count": 41,
   "metadata": {},
   "outputs": [
    {
     "data": {
      "text/plain": [
       "'b:/!temp/ORAL_MFSC_unigram_40_banks/08A021N.tfrecord'"
      ]
     },
     "execution_count": 41,
     "metadata": {},
     "output_type": "execute_result"
    }
   ],
   "source": [
    "tfrecord_path"
   ]
  },
  {
   "cell_type": "code",
   "execution_count": null,
   "metadata": {},
   "outputs": [],
   "source": []
  }
 ],
 "metadata": {
  "kernelspec": {
   "display_name": "Python 3",
   "language": "python",
   "name": "python3"
  },
  "language_info": {
   "codemirror_mode": {
    "name": "ipython",
    "version": 3
   },
   "file_extension": ".py",
   "mimetype": "text/x-python",
   "name": "python",
   "nbconvert_exporter": "python",
   "pygments_lexer": "ipython3",
   "version": "3.6.7"
  }
 },
 "nbformat": 4,
 "nbformat_minor": 2
}

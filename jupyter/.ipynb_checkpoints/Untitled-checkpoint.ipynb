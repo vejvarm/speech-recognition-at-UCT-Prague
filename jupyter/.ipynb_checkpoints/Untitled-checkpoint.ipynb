{
 "cells": [
  {
   "cell_type": "code",
   "execution_count": 7,
   "metadata": {},
   "outputs": [
    {
     "ename": "ModuleNotFoundError",
     "evalue": "No module named 'speech_recognition'",
     "output_type": "error",
     "traceback": [
      "\u001b[1;31m---------------------------------------------------------------------------\u001b[0m",
      "\u001b[1;31mModuleNotFoundError\u001b[0m                       Traceback (most recent call last)",
      "\u001b[1;32m<ipython-input-7-5c5bbf584155>\u001b[0m in \u001b[0;36m<module>\u001b[1;34m\u001b[0m\n\u001b[0;32m      4\u001b[0m \u001b[1;32mimport\u001b[0m \u001b[0mnumpy\u001b[0m \u001b[1;32mas\u001b[0m \u001b[0mnp\u001b[0m\u001b[1;33m\u001b[0m\u001b[1;33m\u001b[0m\u001b[0m\n\u001b[0;32m      5\u001b[0m \u001b[1;33m\u001b[0m\u001b[0m\n\u001b[1;32m----> 6\u001b[1;33m \u001b[1;32mfrom\u001b[0m \u001b[0mspeech_recognition\u001b[0m\u001b[1;33m.\u001b[0m\u001b[0mDataLoader\u001b[0m \u001b[1;32mimport\u001b[0m \u001b[0mDataLoader\u001b[0m\u001b[1;33m\u001b[0m\u001b[1;33m\u001b[0m\u001b[0m\n\u001b[0m",
      "\u001b[1;31mModuleNotFoundError\u001b[0m: No module named 'speech_recognition'"
     ]
    }
   ],
   "source": [
    "import os\n",
    "\n",
    "import tensorflow as tf\n",
    "import numpy as np\n",
    "\n",
    "from FeatureExtraction import FeatureExtractor\n",
    "from DataLoader import DataLoader"
   ]
  },
  {
   "cell_type": "code",
   "execution_count": null,
   "metadata": {},
   "outputs": [],
   "source": [
    "def serialize_array(x, y):\n",
    "    feature = {\n",
    "        'x': tf.train.Feature(float_list=tf.train.FloatList(value=x.flatten())),\n",
    "        'y': tf.train.Feature(int64_list=tf.train.Int64List(value=y.flatten()))\n",
    "    }\n",
    "    example = tf.train.Example(features=tf.train.Features(feature=feature))\n",
    "    return example.SerializeToString()\n",
    "\n",
    "\n",
    "def numpy_to_tfrecord(path_to_files, output_file=''):\n",
    "    \"\"\"\n",
    "\n",
    "    :param path_to_files: (str) path to folder with numpy files\n",
    "    :param output_file: (str)path to output tfrecord file\n",
    "    :return: None\n",
    "    \"\"\"\n",
    "\n",
    "    path_to_files = os.path.normpath(path_to_files)\n",
    "\n",
    "    if output_file and isinstance(output_file, str):\n",
    "        output_file = os.path.normpath(output_file)\n",
    "    else:\n",
    "        output_file = os.path.join(path_to_files, 'data.tfrecord')\n",
    "\n",
    "    cepstra, cepstra_paths = FeatureExtractor.load_cepstra(path_to_files)\n",
    "    labels, label_paths = DataLoader.load_labels(path_to_files)\n",
    "\n",
    "    num_cepstra = len(cepstra[0])\n",
    "    num_labels = len(labels[0])\n",
    "\n",
    "    assert num_cepstra == num_labels, 'number of feat files ({}) and label files ({}) must be equal'.format(num_cepstra,\n",
    "                                                                                                            num_labels)\n",
    "\n",
    "    writer = tf.python_io.TFRecordWriter(output_file)\n",
    "\n",
    "    for i in range(num_cepstra):\n",
    "        serialized = serialize_array(cepstra[0][i], labels[0][i])\n",
    "        writer.write(serialized)\n",
    "\n",
    "    writer.close()\n",
    "\n",
    "    \"Data written to {}\".format(output_file)\n",
    "\n",
    "if __name__ == '__main__':\n",
    "    path_to_files = \"c:/!temp/MFSC_debug\"\n",
    "    output_file = \"c:/!temp/data.tfrecord\"\n",
    "\n",
    "    numpy_to_tfrecord(path_to_files, output_file)\n"
   ]
  },
  {
   "cell_type": "code",
   "execution_count": null,
   "metadata": {},
   "outputs": [],
   "source": []
  }
 ],
 "metadata": {
  "kernelspec": {
   "display_name": "Python 3",
   "language": "python",
   "name": "python3"
  },
  "language_info": {
   "codemirror_mode": {
    "name": "ipython",
    "version": 3
   },
   "file_extension": ".py",
   "mimetype": "text/x-python",
   "name": "python",
   "nbconvert_exporter": "python",
   "pygments_lexer": "ipython3",
   "version": "3.6.7"
  }
 },
 "nbformat": 4,
 "nbformat_minor": 2
}
